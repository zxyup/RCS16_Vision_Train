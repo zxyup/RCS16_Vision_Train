{
 "cells": [
  {
   "cell_type": "code",
   "execution_count": null,
   "metadata": {},
   "outputs": [],
   "source": [
    "import torch\n",
    "import torch.nn as nn\n",
    "import torch.optim as optim\n",
    "import numpy as np\n",
    "import matplotlib.pyplot as plt\n",
    "import torchvision\n",
    "from torchvision import datasets, transforms\n",
    "#from torch.utils.tensorboard import SummaryWriter"
   ]
  },
  {
   "cell_type": "code",
   "execution_count": null,
   "metadata": {},
   "outputs": [],
   "source": [
    "class Model(nn.Module):\n",
    "    def __init__(self):\n",
    "        super(Model, self).__init__()\n",
    "        self.model = nn.Sequential(\n",
    "            nn.Conv2d(3, 32, 5, 1, 2),   #二维卷积核，self.conv2d = nn.Conv2d(in_channels,out_channels,kernel_size,stride,padding)\n",
    "            #stride:卷积核在图像窗口上每次平移的间隔，即所谓的步长\n",
    "            #Padding即所谓的图像填充，后面的int型常数代表填充的多少（行数、列数），默认为0。\n",
    "            # 需要注意的是这里的填充包括图像的上下左右，以padding = 1为例，若原始图像大小为32x32，那么padding后的图像大小就变成了34x34，而不是33x33    \n",
    "            nn.MaxPool2d(2),\n",
    "            nn.Conv2d(32, 32, 5, 1, 2),\n",
    "            nn.MaxPool2d(2),\n",
    "            nn.Conv2d(32, 64, 5, 1, 2),\n",
    "            nn.MaxPool2d(2),\n",
    "            nn.Flatten(),   #torch.nn.Flatten()默认从第二维开始平坦化\n",
    "            nn.Linear(64 * 4 * 4, 64),\n",
    "            nn.Linear(64, 10),\n",
    "        )\n",
    "\n",
    "    def forward(self, x):\n",
    "        x = self.model(x)\n",
    "        return x"
   ]
  },
  {
   "cell_type": "code",
   "execution_count": null,
   "metadata": {},
   "outputs": [],
   "source": [
    "train_data = torchvision.datasets.CIFAR10(root='../data', train=True, transform=torchvision.transforms.ToTensor(),download=True)\n",
    "test_data = torchvision.datasets.CIFAR10(root='../data', train=False, transform=torchvision.transforms.ToTensor(), download=True)\n",
    "train_dataloader = torch.utils.data.DataLoader(train_data, batch_size=64)\n",
    "test_dataloader = torch.utils.data.DataLoader(test_data, batch_size=64)\n"
   ]
  },
  {
   "cell_type": "code",
   "execution_count": null,
   "metadata": {},
   "outputs": [],
   "source": [
    "model = Model().cuda()  #调用model.cuda()，可以将模型加载到GPU上去。\n",
    "#添加tensorboard可视化数据\n",
    "#writer = SummaryWriter('../logs_tensorboard')  #用于在给定目录中创建事件文件，并向其中添加摘要和事件\n",
    "loss = nn.CrossEntropyLoss().cuda()\n",
    "optimizer  = torch.optim.SGD(model.parameters(),lr=0.003)\n",
    "#i = 1 # 用于绘制测试集的tensorboard\n"
   ]
  },
  {
   "cell_type": "code",
   "execution_count": null,
   "metadata": {},
   "outputs": [],
   "source": [
    "Train_correction = []\n",
    "Test_correction = []\n",
    "Loss = []"
   ]
  },
  {
   "cell_type": "code",
   "execution_count": null,
   "metadata": {},
   "outputs": [],
   "source": [
    "for epoch in range(50):\n",
    "    if epoch == 40:\n",
    "        for p in optimizer.param_groups:\n",
    "            p['lr'] = 0.001\n",
    "    model.train() # 也可以不写，规范的话是写，用来表明训练步骤\n",
    "    correct = 0\n",
    "    total = 0\n",
    "    loss_ = 0.0\n",
    "    for data in train_dataloader:\n",
    "        # 数据分开 一个是图片数据，一个是真实值\n",
    "        imgs,targets = data\n",
    "        imgs = imgs.cuda()\n",
    "        targets = targets.cuda()\n",
    "        # 拿到预测值\n",
    "        output = model(imgs)\n",
    "        # 计算损失值\n",
    "        loss_in = loss(output,targets)\n",
    "        # 优化开始~ ~ 先梯度清零\n",
    "        optimizer.zero_grad()\n",
    "        # 反向传播+更新\n",
    "        loss_in.backward()\n",
    "        optimizer.step()\n",
    "        loss_ += loss_in.item()\n",
    "        _,predicted = torch.max(output.data, 1)        #torch.max(input, dim),dim是max函数索引的维度0/1，0是每列的最大值，1是每行的最大值\n",
    "        #函数会返回两个tensor，第一个tensor是每行的最大值，softmax的输出中最大的是1，所以第一个tensor是全1的tensor；第二个tensor是每行最大值的索引。\n",
    "        total += targets.size(0)     #计算lables总量        \n",
    "        #torrch.size(0)中的0表示第0维度的数据数量,如a = torch.tensor([[1,2,3], [4,5,6]])，a.size（0）为2，即有[1,2,3]，[4,5,6]两个数据\n",
    "        correct += (predicted == targets).sum().item()\n",
    "        #(a == b).sum()，若a,b为张量，返回tensor(1)。若为numpy，则返回1。.item()用于取出tensor中的值。\n",
    "    a = float(100 * correct / total)\n",
    "    Train_correction.append(a) \n",
    "    Loss.append(loss_)\n",
    "    # 每轮训练完成跑一下测试数据看看情况\n",
    "    accurate = 0\n",
    "    total_ = 0\n",
    "    model.eval() # 也可以不写，规范的话就写，用来表明是测试步骤\n",
    "    with torch.no_grad():\n",
    "        for data in test_dataloader:\n",
    "            # 这里的每一次循环 都是一个minibatch  一次for循环里面有64个数据。\n",
    "            imgs , targets = data\n",
    "            imgs = imgs.cuda()\n",
    "            targets = targets.cuda()\n",
    "            output = model(imgs)\n",
    "            _,predicted_ = torch.max(output.data, 1)\n",
    "            total_ += targets.size(0)\n",
    "            accurate += (predicted_ == targets).sum().item()\n",
    "    b = float(100 * accurate / total_)\n",
    "    Test_correction.append(b) "
   ]
  },
  {
   "cell_type": "code",
   "execution_count": null,
   "metadata": {},
   "outputs": [],
   "source": [
    "x = [i for i in range(1,51)]\n",
    "print(len(x))\n",
    "plt.figure(figsize=(15,15))\n",
    "plt.subplot(3,3,1)\n",
    "plt.title('Zetao_Li')\n",
    "plt.xlabel('epoch')\n",
    "plt.ylabel('train_correct')\n",
    "plt.plot(x,Train_correction)\n",
    "plt.subplot(3,3,2)\n",
    "plt.title('Zetao_Li')\n",
    "plt.xlabel('epoch')\n",
    "plt.ylabel('test_correct')\n",
    "plt.plot(x,Test_correction)\n",
    "plt.subplot(3,3,3)\n",
    "plt.title('Zetao_Li')\n",
    "plt.xlabel('epoch')\n",
    "plt.ylabel('Loss')\n",
    "plt.plot(x,Loss)\n",
    "plt.show()\n",
    "print(x)\n",
    "print(len(Train_correction))\n",
    "print(len(Test_correction))"
   ]
  }
 ],
 "metadata": {
  "kernelspec": {
   "display_name": "opencv",
   "language": "python",
   "name": "python3"
  },
  "language_info": {
   "codemirror_mode": {
    "name": "ipython",
    "version": 3
   },
   "file_extension": ".py",
   "mimetype": "text/x-python",
   "name": "python",
   "nbconvert_exporter": "python",
   "pygments_lexer": "ipython3",
   "version": "3.8.17"
  },
  "orig_nbformat": 4
 },
 "nbformat": 4,
 "nbformat_minor": 2
}
