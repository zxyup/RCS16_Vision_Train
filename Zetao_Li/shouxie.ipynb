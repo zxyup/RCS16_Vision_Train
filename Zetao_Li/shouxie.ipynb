{
 "cells": [
  {
   "cell_type": "code",
   "execution_count": null,
   "metadata": {},
   "outputs": [],
   "source": [
    "import torch\n",
    "import torch.nn as nn\n",
    "import torch.optim as optim\n",
    "from torchvision import datasets, transforms\n",
    "import matplotlib.pyplot as plt"
   ]
  },
  {
   "cell_type": "code",
   "execution_count": null,
   "metadata": {},
   "outputs": [],
   "source": [
    "class MLP(nn.Module):\n",
    "    def __init__(self, input_size, hidden_size,output_size):\n",
    "        super(MLP, self).__init__()\n",
    "        self.layers = nn.Sequential(\n",
    "            nn.Linear(input_size, hidden_size),\n",
    "            nn.ReLU(),\n",
    "            nn.Linear(hidden_size, output_size)\n",
    "        )\n",
    "\n",
    "    def forward(self, x):\n",
    "        x = x.view(x.size(0),-1)  #将多维度的x展开成一维，以链接全连接层\n",
    "        out = self.layers(x)\n",
    "        return out"
   ]
  },
  {
   "cell_type": "code",
   "execution_count": null,
   "metadata": {},
   "outputs": [],
   "source": [
    "input_size = 784   #784为像素总数\n",
    "hidden_size = 128\n",
    "output_size = 10\n",
    "learning_rate = 0.001\n",
    "batch_size = 64\n",
    "num_epochs = 30"
   ]
  },
  {
   "cell_type": "code",
   "execution_count": null,
   "metadata": {},
   "outputs": [],
   "source": [
    "transform = transforms.Compose([             #用Compose将多个预处理步骤整合在一起\n",
    "transforms.ToTensor(),                        #transforms.ToTensor()可以将PIL和numpy格式的数据从[0,255]范围转换到[0,1] \n",
    "#具体做法其实就是将原始数据除以255。另外原始数据的shape是（H x W x C），通过transforms.ToTensor()后shape会变为（C x H x W）         \n",
    "transforms.Normalize((0.1307,),(0.3081,))           #output[channel] = (input[channel] - mean[channel]) / std[channel]。\n",
    "#这里[channel]的意思是指对特征图的每个通道都进行这样的操作。【mean为均值，std为标准差】\n",
    "])\n",
    "\n",
    "train_dataset = datasets.MNIST(root = './data', train = True, transform=transform, download=True)   #手写数据集\n",
    "test_dataset = datasets.MNIST(root = './data', train = False, transform=transform, download=True)\n",
    "train_loader = torch.utils.data.DataLoader(train_dataset, batch_size=batch_size, shuffle=True)\n",
    "test_loader = torch.utils.data.DataLoader(test_dataset, batch_size=batch_size, shuffle=False)\n",
    "#  test测试集，train训练集，训练集用于迭代训练（相当于模拟考提升），测试集用于最终测试（相当于最终考试）\n",
    "model = MLP(input_size, hidden_size, output_size)\n",
    "criterion = nn.CrossEntropyLoss()    #交叉熵损失函数，一种损失函数\n",
    "optimizer = optim.Adam(model.parameters(), lr=learning_rate)\n"
   ]
  },
  {
   "cell_type": "code",
   "execution_count": null,
   "metadata": {},
   "outputs": [],
   "source": [
    "correction = []\n",
    "correction_ = []\n",
    "Loss = []"
   ]
  },
  {
   "cell_type": "code",
   "execution_count": null,
   "metadata": {},
   "outputs": [],
   "source": [
    "for epoch in range(0, num_epochs):\n",
    "    model.train()\n",
    "    loss_ = 0\n",
    "    correct = 0\n",
    "    total = 0\n",
    "    for i, (images, labels) in enumerate(train_loader):  #enumerate返回索引和对应值\n",
    "        outputs = model(images)\n",
    "        loss = criterion(outputs, labels)\n",
    "        optimizer.zero_grad()\n",
    "        loss.backward()\n",
    "        optimizer.step()\n",
    "        loss_ += loss.item()\n",
    "        \n",
    "        outputs = model(images)\n",
    "        _,predicted = torch.max(outputs.data, 1)           \n",
    "        total += labels.size(0)            \n",
    "        correct += (predicted == labels).sum().item()\n",
    "\n",
    "\n",
    "\n",
    "    Loss.append(loss_)    \n",
    "    model.eval()        #打开评估模式\n",
    "    total_ = 0\n",
    "    correct_ = 0\n",
    "\n",
    "        \n",
    "    for images, labels in test_loader:\n",
    "        outputs_ = model(images)\n",
    "        _,predicted_ = torch.max(outputs_.data, 1)        #torch.max(input, dim),dim是max函数索引的维度0/1，0是每列的最大值，1是每行的最大值\n",
    "        #函数会返回两个tensor，第一个tensor是每行的最大值，softmax的输出中最大的是1，所以第一个tensor是全1的tensor；第二个tensor是每行最大值的索引。\n",
    "        total_ += labels.size(0)     #计算lables总量        \n",
    "        #torrch.size(0)中的0表示第0维度的数据数量,如a = torch.tensor([[1,2,3], [4,5,6]])，a.size（0）为2，即有[1,2,3]，[4,5,6]两个数据\n",
    "        correct_ += (predicted_ == labels).sum().item()\n",
    "        #(a == b).sum()，若a,b为张量，返回tensor(1)。若为numpy，则返回1。.item()用于取出tensor中的值。\n",
    "    a = float(100 * correct / total)\n",
    "    b = float(100 * correct_ / total_)\n",
    "    correction.append(a)\n",
    "    correction_.append(b)\n",
    "x = [i for i in range(1,num_epochs+1)]\n",
    "plt.figure(figsize=(15,15))\n",
    "plt.subplot(3,3,1)\n",
    "plt.title('Zetao_Li')\n",
    "plt.xlabel('epoch')\n",
    "plt.ylabel('train_correct')\n",
    "plt.plot(x,correction)\n",
    "plt.subplot(3,3,2)\n",
    "plt.title('Zetao_Li')\n",
    "plt.xlabel('epoch')\n",
    "plt.ylabel('test_correct')\n",
    "plt.plot(x,correction_)\n",
    "plt.subplot(3,3,3)\n",
    "plt.title('Zetao_Li')\n",
    "plt.xlabel('epoch')\n",
    "plt.ylabel('Loss')\n",
    "plt.plot(x,Loss)\n",
    "plt.show()\n",
    "\n",
    "\n",
    "    \n",
    "\n",
    "\n"
   ]
  },
  {
   "cell_type": "markdown",
   "metadata": {},
   "source": []
  }
 ],
 "metadata": {
  "kernelspec": {
   "display_name": "opencv",
   "language": "python",
   "name": "python3"
  },
  "language_info": {
   "codemirror_mode": {
    "name": "ipython",
    "version": 3
   },
   "file_extension": ".py",
   "mimetype": "text/x-python",
   "name": "python",
   "nbconvert_exporter": "python",
   "pygments_lexer": "ipython3",
   "version": "3.8.17"
  },
  "orig_nbformat": 4
 },
 "nbformat": 4,
 "nbformat_minor": 2
}
